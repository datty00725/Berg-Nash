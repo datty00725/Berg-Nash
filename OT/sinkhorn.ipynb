{
 "cells": [
  {
   "cell_type": "code",
   "execution_count": 10,
   "metadata": {},
   "outputs": [],
   "source": [
    "import numpy as np\n",
    "import matplotlib.pyplot as plt"
   ]
  },
  {
   "cell_type": "code",
   "execution_count": 11,
   "metadata": {},
   "outputs": [],
   "source": [
    "# データの生成（式 (2.22)）\n",
    "n, m = 4, 4\n",
    "C = np.array([\n",
    "    [0, 2, 2, 2],\n",
    "    [2, 0, 1, 2],\n",
    "    [2, 1, 0, 2],\n",
    "    [2, 2, 2, 0]])\n",
    "a = np.array([0.2, 0.5, 0.2, 0.1])\n",
    "b = np.array([0.3, 0.3, 0.4, 0.0])"
   ]
  },
  {
   "cell_type": "code",
   "execution_count": 12,
   "metadata": {},
   "outputs": [
    {
     "data": {
      "text/plain": [
       "<matplotlib.image.AxesImage at 0x11e16e09fd0>"
      ]
     },
     "execution_count": 12,
     "metadata": {},
     "output_type": "execute_result"
    },
    {
     "data": {
      "image/png": "[encoded data removed]",
      "text/plain": [
       "<Figure size 640x480 with 1 Axes>"
      ]
     },
     "metadata": {},
     "output_type": "display_data"
    }
   ],
   "source": [
    "# シンクホーンアルゴリズム（アルゴリズム 3.2）\n",
    "\n",
    "# これが大きいと高速に、小さいと厳密に\n",
    "eps = 100 \n",
    "# ギブスカーネルの定義\n",
    "K = np.exp(- C / eps) \n",
    "\n",
    "# すべて 1 で初期化\n",
    "u = np.ones(n) \n",
    "for i in range(100):\n",
    "    v = b / (K.T @ u)\n",
    "    u = a / (K @ v)\n",
    "\n",
    "# 対数領域に戻す\n",
    "f = eps * np.log(u + 1e-9) \n",
    "g = eps * np.log(v + 1e-9) \n",
    "\n",
    "# 主解\n",
    "P = u.reshape(n, 1) * K * v.reshape(1, m) \n",
    "\n",
    "# 解のプロット\n",
    "plt.imshow(P, cmap=plt.cm.Blues) "
   ]
  }
 ],
 "metadata": {
  "kernelspec": {
   "display_name": "base",
   "language": "python",
   "name": "python3"
  },
  "language_info": {
   "codemirror_mode": {
    "name": "ipython",
    "version": 3
   },
   "file_extension": ".py",
   "mimetype": "text/x-python",
   "name": "python",
   "nbconvert_exporter": "python",
   "pygments_lexer": "ipython3",
   "version": "3.11.7"
  }
 },
 "nbformat": 4,
 "nbformat_minor": 2
}
